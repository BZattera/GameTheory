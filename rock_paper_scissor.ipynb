{
 "cells": [
  {
   "cell_type": "code",
   "execution_count": null,
   "id": "831c04c7",
   "metadata": {},
   "outputs": [],
   "source": []
  },
  {
   "cell_type": "code",
   "execution_count": null,
   "id": "8890f723",
   "metadata": {},
   "outputs": [],
   "source": []
  },
  {
   "cell_type": "code",
   "execution_count": null,
   "id": "5c4aaa9b",
   "metadata": {},
   "outputs": [],
   "source": []
  },
  {
   "cell_type": "code",
   "execution_count": null,
   "id": "1607fc73",
   "metadata": {},
   "outputs": [],
   "source": []
  },
  {
   "cell_type": "code",
   "execution_count": null,
   "id": "153b59ef",
   "metadata": {},
   "outputs": [],
   "source": []
  },
  {
   "cell_type": "code",
   "execution_count": 1,
   "id": "2f74341c",
   "metadata": {},
   "outputs": [
    {
     "name": "stdout",
     "output_type": "stream",
     "text": [
      "pygame 2.0.2 (SDL 2.0.16, Python 3.8.8)\n",
      "Hello from the pygame community. https://www.pygame.org/contribute.html\n"
     ]
    }
   ],
   "source": [
    "import time\n",
    "import pygame\n",
    "import random\n"
   ]
  },
  {
   "cell_type": "code",
   "execution_count": null,
   "id": "b62eb49e",
   "metadata": {
    "scrolled": true
   },
   "outputs": [],
   "source": [
    "\n",
    " \n",
    "pygame.init()\n",
    "width=750;\n",
    "height=600\n",
    "pic_dim = 150;\n",
    "\n",
    "screen = pygame.display.set_mode( (width, height ) , pygame.RESIZABLE)\n",
    "#pygame.display.set_caption('clicked on image')\n",
    "scissor = pygame.transform.scale(pygame.image.load(\"scissor1.jpg\").convert(), (pic_dim, pic_dim))\n",
    "paper = pygame.transform.scale(pygame.image.load(\"paper1.jpg\").convert(), (pic_dim, pic_dim))\n",
    "rock = pygame.transform.scale(pygame.image.load(\"rock1.jpg\").convert(), (pic_dim, pic_dim))\n",
    "#redSquare = pygame.transform.scale(redSquare, (150, 150))\n",
    " \n",
    "distance = 180;\n",
    "x = (width - 3*distance)/2; # x coordnate of image\n",
    "\n",
    "y = (height/3)*2; # y coordinate of image\n",
    "y_computer = (height/3)*0.5;\n",
    "x_paper = x+distance\n",
    "x_rock = x+(distance*2);\n",
    "y_paper = y\n",
    "y_rock = y\n",
    "\n",
    "pygame.init() # now use display and fonts\n",
    "screen.fill([255,255,255])\n",
    "instructions(screen)\n",
    "\n",
    "#stimuli for the computer\n",
    "screen.blit(scissor,  (x,y_computer)) # paint to screen\n",
    "screen.blit(paper, (x_paper,y_computer)) # paint to screen\n",
    "screen.blit(rock,  (x_rock,y_computer)) # paint to screen\n",
    "font_computer = pygame.font.SysFont(\"Arial\", 50)\n",
    "computer = (\"Computer's choice\")\n",
    "blit_text(screen, computer, (x+100, (y_computer-80)), font_computer)\n",
    "\n",
    "#stimuli for the player\n",
    "screen.blit(scissor,  (x,y)) # paint to screen\n",
    "screen.blit(paper, (x_paper,y_paper)) # paint to screen\n",
    "screen.blit(rock,  (x_rock,y_rock)) # paint to screen\n",
    "font_player = pygame.font.SysFont(\"Arial\", 50)\n",
    "player = (\"Click on your move\")\n",
    "blit_text(screen, player, (x+100, (y-80)), font_player)\n",
    "\n",
    "n_trial = 30; # number of trials\n",
    "\n",
    "pygame.display.flip() # paint screen one time\n",
    "select = ['scissor', 'paper', 'rock'] # list of possible values\n",
    "running = 0 # initialization \n",
    "          \n",
    "# initializing the list for the result  \n",
    "all_player_choice = []\n",
    "all_computer_choice = []\n",
    "running_trial = []\n",
    "all_trial_outcome = []\n",
    "\n",
    "original_list = list([0, 1]*30) # creating a list of 60 elements (50% 0, 50% 1)\n",
    "\n",
    "slice = MutableSlice(original_list, 1) # selecting the part of the list I want to shuffle (all but the first element)\n",
    "random.shuffle(slice) # shuffleing the slice\n",
    "          \n",
    "while (running<len(original_list)):\n",
    "    for event in pygame.event.get():\n",
    "        if event.type == pygame.QUIT:\n",
    "            running = n_trial\n",
    "        if event.type == pygame.MOUSEBUTTONDOWN:\n",
    "            running_trial.append(running)\n",
    "            \n",
    "            # Randomly selects option for computer. I select this case for the 50% of the case and if the \n",
    "            if original_list[running] == 0 or running == 0: \n",
    "                computer = random.choice(select)\n",
    "                all_computer_choice.append(computer)\n",
    "            else: \n",
    "                computer = weighted_computer_choice(select, all_trial_outcome, all_player_choice)\n",
    "                all_computer_choice.append(computer)\n",
    "            \n",
    "            # Set the x, y postions of the mouse click\n",
    "            x_pos, y_pos = pygame.mouse.get_pos()\n",
    "            \n",
    "            if (x_pos>x and x_pos <x+pic_dim and y_pos>y and y_pos<y+pic_dim):\n",
    "                print('clicked on scissor')\n",
    "                all_trial_outcome.append(display_feedback('scissor', x, y,computer, screen))\n",
    "                all_player_choice.append('scissor')\n",
    "                                \n",
    "            elif (x_pos>x_paper and x_pos <x_paper+pic_dim and y_pos>y_paper and y_pos<y_paper+pic_dim):\n",
    "                print('clicked on paper')\n",
    "                all_trial_outcome.append(display_feedback('paper', x_paper, y_paper, computer, screen))\n",
    "                all_player_choice.append('paper')\n",
    "                \n",
    "            elif (x_pos>x_rock and x_pos <x_rock+pic_dim and y_pos>y_rock and y_pos<y_rock+pic_dim):\n",
    "                print('clicked on rock')\n",
    "                all_trial_outcome.append(display_feedback('rock', x_rock, y_rock, computer, screen))\n",
    "                all_player_choice.append('rock')\n",
    "            running +=1 # incrementing the counter\n",
    "            \n",
    "\n",
    "#loop over, quite pygame\n",
    "pygame.quit()"
   ]
  },
  {
   "cell_type": "code",
   "execution_count": null,
   "id": "c7eb20a9",
   "metadata": {},
   "outputs": [],
   "source": [
    "print(len(all_player_choice))\n",
    "print(len(all_computer_choice))\n",
    "print(len(all_trial_outcome))\n",
    "print(len(running_trial))"
   ]
  },
  {
   "cell_type": "code",
   "execution_count": 31,
   "id": "f1d7e72e",
   "metadata": {},
   "outputs": [
    {
     "name": "stdout",
     "output_type": "stream",
     "text": [
      "[1, 2, 3, 4, 5, 6]\n"
     ]
    },
    {
     "data": {
      "text/plain": [
       "[1, 5, 4, 2, 6, 3]"
      ]
     },
     "execution_count": 31,
     "metadata": {},
     "output_type": "execute_result"
    }
   ],
   "source": [
    "def weighted_computer_choice(select, all_trial_outcome, all_player_choice):\n",
    "    \n",
    "    # with this first part of the code, I try to anticipate the next player's choice\n",
    "    \n",
    "    # if the player wins, there is higher probability he will repeat the choice\n",
    "    if all_trial_outcome[-1] == 'win': \n",
    "        if all_player_choice[-1] == 'scissor':\n",
    "            # when the player wins with scissor, he's more likely to repeat his choice =>\n",
    "            # to win, we have to mostly go for rock\n",
    "            choice = random.choices(select, weights=(0.25, 0.25, 0.5), k=1)\n",
    "        elif all_player_choice[-1] == 'paper':\n",
    "            # when the player wins with paper, he's more likely to repeat his choice =>\n",
    "            # to win, we have to mostly go for scissor\n",
    "            choice = random.choices(select, weights=(0.5, 0.25, 0.25), k=1)\n",
    "        elif all_player_choice[-1] == 'rock':\n",
    "            # when the player wins with rock, he's more likely to repeat his choice =>\n",
    "            # to win, we have to mostly go for paper\n",
    "            choice = random.choices(select, weights=(0.25, 0.5, 0.25), k=1)\n",
    "    \n",
    "    # if the player doesn't win, then he won't prefer anything (the choice will be random)\n",
    "    # in this case, the optimal solution is to go random\n",
    "    else:\n",
    "        choice = random.choices(select)\n",
    "    \n",
    "    return choice\n",
    "        "
   ]
  },
  {
   "cell_type": "code",
   "execution_count": 87,
   "id": "8d4fabad",
   "metadata": {},
   "outputs": [
    {
     "name": "stdout",
     "output_type": "stream",
     "text": [
      "['rock']\n"
     ]
    }
   ],
   "source": [
    "select = ['scissor', 'paper', 'rock'] # list of possible values\n",
    "print(random.choices(select))"
   ]
  },
  {
   "cell_type": "code",
   "execution_count": null,
   "id": "72f396f1",
   "metadata": {},
   "outputs": [],
   "source": []
  },
  {
   "cell_type": "code",
   "execution_count": 50,
   "id": "c8593750",
   "metadata": {},
   "outputs": [
    {
     "name": "stdout",
     "output_type": "stream",
     "text": [
      "[0, 1, 0, 1, 0, 1, 0, 1, 0, 1, 0, 1, 0, 1, 0, 1, 0, 1, 0, 1, 0, 1, 0, 1, 0, 1, 0, 1, 0, 1, 0, 1, 0, 1, 0, 1, 0, 1, 0, 1, 0, 1, 0, 1, 0, 1, 0, 1, 0, 1, 0, 1, 0, 1, 0, 1, 0, 1, 0, 1]\n",
      "[0, 1, 0, 1, 0, 0, 0, 0, 0, 1, 1, 1, 1, 0, 0, 1, 1, 0, 1, 0, 1, 1, 1, 0, 1, 0, 1, 0, 1, 0, 1, 0, 0, 0, 0, 0, 1, 1, 0, 1, 0, 0, 1, 0, 1, 0, 1, 0, 1, 1, 0, 0, 1, 0, 1, 0, 1, 1, 1, 1]\n"
     ]
    }
   ],
   "source": [
    "original_list = list([0, 1]*30) # creating a list of 60 elements (50% 0, 50% 1)\n",
    "\n",
    "slice = MutableSlice(original_list, 1) # selecting the part of the list I want to shuffle (all but the first element)\n",
    "random.shuffle(slice) # shuffleing the slice\n",
    "\n"
   ]
  },
  {
   "cell_type": "markdown",
   "id": "7510eb37",
   "metadata": {},
   "source": [
    "## functions"
   ]
  },
  {
   "cell_type": "code",
   "execution_count": 51,
   "id": "d07018b5",
   "metadata": {},
   "outputs": [],
   "source": [
    "def instructions(screen):\n",
    "    \n",
    "    font_heading = pygame.font.SysFont(\"Arial\", 50)\n",
    "    heading = (\"Welcome to the ultimate Rock Paper Scissor game!\")\n",
    "    \n",
    "    font_text = pygame.font.SysFont(\"Arial\", 35)\n",
    "    myText = (\"The game it's easy: click on your selected choice. \\n \\n\" \\\n",
    "              \"You will receive a feedback: \\n\" \\\n",
    "              \"green = win, \\nblue = draw, \\nred = lose. \\n\" \\\n",
    "             \"When the feedback disappears, you can do the next trial\")\n",
    "\n",
    "    blit_text(screen, heading, (30, 30), font_heading)\n",
    "    blit_text(screen, myText, (30, 250), font_text)\n",
    "    pygame.display.flip()\n",
    "    f_running = True\n",
    "    \n",
    "    while (f_running):\n",
    "        for event in pygame.event.get():\n",
    "            \n",
    "            if event.type == pygame.MOUSEBUTTONDOWN:\n",
    "                screen.fill([255,255,255])\n",
    "                f_running = False"
   ]
  },
  {
   "cell_type": "code",
   "execution_count": 52,
   "id": "df1435a3",
   "metadata": {},
   "outputs": [],
   "source": [
    "def blit_text(surface, text, pos, font, color=pygame.Color('black')):\n",
    "    words = [word.split(' ') for word in text.splitlines()]  # 2D array where each row is a list of words.\n",
    "    space = font.size(' ')[0]  # The width of a space.\n",
    "    max_width, max_height = surface.get_size()\n",
    "    x, y = pos\n",
    "    for line in words:\n",
    "        for word in line:\n",
    "            word_surface = font.render(word, 0, color)\n",
    "            word_width, word_height = word_surface.get_size()\n",
    "            if x + word_width >= max_width:\n",
    "                x = pos[0]  # Reset the x.\n",
    "                y += word_height  # Start on new row.\n",
    "            surface.blit(word_surface, (x, y))\n",
    "            x += word_width + space\n",
    "        x = pos[0]  # Reset the x.\n",
    "        y += word_height  # Start on new row."
   ]
  },
  {
   "cell_type": "code",
   "execution_count": 53,
   "id": "f24fa980",
   "metadata": {},
   "outputs": [],
   "source": [
    "def win(player_choice, computer):\n",
    "    \n",
    "    \n",
    "    final_result = []\n",
    "    \n",
    "    if player_choice==computer:\n",
    "        print('repeat game!')\n",
    "        final_result = 'draw'\n",
    "    elif (player_choice=='scissor' and computer=='paper'\n",
    "         ) or (player_choice=='paper' and computer=='rock'\n",
    "              ) or (player_choice=='rock' and computer=='scissor'):\n",
    "        print('Good! You won!')\n",
    "        final_result = 'win'\n",
    "        \n",
    "    elif (player_choice=='scissor' and computer=='rock'\n",
    "         ) or (player_choice=='paper' and computer=='scissor') or (player_choice=='rock' and computer=='paper'):\n",
    "        print('Try again')\n",
    "        final_result = 'lose'\n",
    "        \n",
    "    return final_result"
   ]
  },
  {
   "cell_type": "code",
   "execution_count": 54,
   "id": "fcf3ab3a",
   "metadata": {},
   "outputs": [],
   "source": [
    "def display_feedback(response, x_coord, y_coord, comp):\n",
    "    y_comp = (y_coord/2)*0.5\n",
    "    x_comp = get_x_comp(response, comp, x_coord)\n",
    "    outcome = []\n",
    "    \n",
    "    \n",
    "    if win(response, comp)=='win':\n",
    "        outcome = 'win' # writing the outcome\n",
    "        pygame.draw.rect(screen, [0, 255, 0], [x_coord, y_coord, 150, 150], 4) # green outline for the player\n",
    "        pygame.draw.rect(screen, [255, 0, 0], [x_comp, y_comp, 150, 150], 4) # red outline for the computer\n",
    "        pygame.display.flip()\n",
    "        time.sleep(2)\n",
    "        pygame.draw.rect(screen, [255, 255, 255], [x_coord, y_coord, 150, 150], 4) # remove player's outline\n",
    "        pygame.draw.rect(screen, [255, 255, 255], [x_comp, y_comp, 150, 150], 4) # remove computer's outline\n",
    "        pygame.display.flip()\n",
    "        \n",
    "        \n",
    "    elif win(response, comp)=='lose':\n",
    "        outcome = 'lose' # writing the outcome\n",
    "        pygame.draw.rect(screen, [255, 0, 0], [x_coord, y_coord, 150, 150], 4)  # red outline for the player\n",
    "        pygame.draw.rect(screen, [0, 255, 0], [x_comp, y_comp, 150, 150], 4) # green outline for the computer\n",
    "        pygame.display.flip()\n",
    "        time.sleep(2)\n",
    "        pygame.draw.rect(screen, [255, 255, 255], [x_coord, y_coord, 150, 150], 4) # remove player's outline\n",
    "        pygame.draw.rect(screen, [255, 255, 255], [x_comp, y_comp, 150, 150], 4) # remove computer's outline\n",
    "        pygame.display.flip()\n",
    "        outcome = 'lose'\n",
    "        \n",
    "    elif win(response, comp)=='draw':\n",
    "        outcome = 'draw' # writing the outcome\n",
    "        pygame.draw.rect(screen, [0, 0, 255], [x_coord, y_coord, 150, 150], 4)\n",
    "        pygame.draw.rect(screen, [0, 0, 255], [x_comp, y_comp, 150, 150], 4) # red outline for the computer\n",
    "        pygame.display.flip()\n",
    "        time.sleep(2)\n",
    "        pygame.draw.rect(screen, [255, 255, 255], [x_coord, y_coord, 150, 150], 4) # remove player's outline\n",
    "        pygame.draw.rect(screen, [255, 255, 255], [x_comp, y_comp, 150, 150], 4) # remove computer's outline\n",
    "        pygame.display.flip()\n",
    "    return outcome"
   ]
  },
  {
   "cell_type": "code",
   "execution_count": 55,
   "id": "e322e71f",
   "metadata": {},
   "outputs": [],
   "source": [
    "def get_x_comp(response, comp, x):\n",
    "    x_comp = []\n",
    "    if comp == response:\n",
    "        x_comp = x\n",
    "    elif ((comp == 'scissor' and response == 'paper') or (comp == 'paper' and response == 'rock')):\n",
    "        x_comp = x-distance\n",
    "    elif (comp=='scissor' and response == 'rock'):\n",
    "        x_comp = x-(distance*2)\n",
    "    elif ((comp == 'paper' and response == 'scissor') or (comp == 'rock' and response == 'paper')):\n",
    "        x_comp = x+distance\n",
    "    elif (comp == 'rock' and response == 'scissor'):\n",
    "        x_comp = x+(distance*2)\n",
    "        \n",
    "    return x_comp"
   ]
  },
  {
   "cell_type": "code",
   "execution_count": 56,
   "id": "a0dd37c4",
   "metadata": {},
   "outputs": [],
   "source": [
    "class MutableSlice(object):\n",
    "    def __init__(self, baselist, begin, end=None):\n",
    "        self._base = baselist\n",
    "        self._begin = begin\n",
    "        self._end = len(baselist) if end is None else end\n",
    "\n",
    "    def __len__(self):\n",
    "        return self._end - self._begin\n",
    "\n",
    "    def __getitem__(self, i):\n",
    "        return self._base[self._begin + i]\n",
    "\n",
    "    def __setitem__(self, i, val):\n",
    "        self._base[i + self._begin] = val"
   ]
  },
  {
   "cell_type": "code",
   "execution_count": null,
   "id": "c94cd9df",
   "metadata": {},
   "outputs": [],
   "source": []
  }
 ],
 "metadata": {
  "kernelspec": {
   "display_name": "Python 3",
   "language": "python",
   "name": "python3"
  },
  "language_info": {
   "codemirror_mode": {
    "name": "ipython",
    "version": 3
   },
   "file_extension": ".py",
   "mimetype": "text/x-python",
   "name": "python",
   "nbconvert_exporter": "python",
   "pygments_lexer": "ipython3",
   "version": "3.8.8"
  }
 },
 "nbformat": 4,
 "nbformat_minor": 5
}
